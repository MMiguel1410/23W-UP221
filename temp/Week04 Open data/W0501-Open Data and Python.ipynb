{
 "cells": [
  {
   "cell_type": "markdown",
   "metadata": {
    "toc": true
   },
   "source": [
    "<h1>Table of Contents<span class=\"tocSkip\"></span></h1>\n",
    "<div class=\"toc\"><ul class=\"toc-item\"><li><span><a href=\"#Take-notice!\" data-toc-modified-id=\"Take-notice!-1\"><span class=\"toc-item-num\">1&nbsp;&nbsp;</span>Take notice!</a></span></li><li><span><a href=\"#An-Open-Data-case-study:--Hot-spots-for-Arrests-in-LA-over-time\" data-toc-modified-id=\"An-Open-Data-case-study:--Hot-spots-for-Arrests-in-LA-over-time-2\"><span class=\"toc-item-num\">2&nbsp;&nbsp;</span>An Open Data case study:  Hot-spots for Arrests in LA over time</a></span><ul class=\"toc-item\"><li><span><a href=\"#What-is-an-API?\" data-toc-modified-id=\"What-is-an-API?-2.1\"><span class=\"toc-item-num\">2.1&nbsp;&nbsp;</span>What is an API?</a></span></li></ul></li><li><span><a href=\"#Part-1:-Mini-project-and-code-review:-Mapping-LA-metro-stops\" data-toc-modified-id=\"Part-1:-Mini-project-and-code-review:-Mapping-LA-metro-stops-3\"><span class=\"toc-item-num\">3&nbsp;&nbsp;</span>Part 1: Mini project and code review: Mapping LA metro stops</a></span><ul class=\"toc-item\"><li><ul class=\"toc-item\"><li><span><a href=\"#From-dataframe-(df)-to-geodataframe-(gdf)\" data-toc-modified-id=\"From-dataframe-(df)-to-geodataframe-(gdf)-3.0.1\"><span class=\"toc-item-num\">3.0.1&nbsp;&nbsp;</span>From dataframe (df) to geodataframe (gdf)</a></span></li><li><span><a href=\"#What-is-the-projection?\" data-toc-modified-id=\"What-is-the-projection?-3.0.2\"><span class=\"toc-item-num\">3.0.2&nbsp;&nbsp;</span>What is the projection?</a></span></li><li><span><a href=\"#Multiple-routes-with-a-for-loop\" data-toc-modified-id=\"Multiple-routes-with-a-for-loop-3.0.3\"><span class=\"toc-item-num\">3.0.3&nbsp;&nbsp;</span>Multiple routes with a for loop</a></span></li></ul></li></ul></li><li><span><a href=\"#Part-2---Socrata:-An-open-data-portal-for-governments\" data-toc-modified-id=\"Part-2---Socrata:-An-open-data-portal-for-governments-4\"><span class=\"toc-item-num\">4&nbsp;&nbsp;</span>Part 2 - Socrata: An open data portal for governments</a></span><ul class=\"toc-item\"><li><ul class=\"toc-item\"><li><span><a href=\"#Question:\" data-toc-modified-id=\"Question:-4.0.1\"><span class=\"toc-item-num\">4.0.1&nbsp;&nbsp;</span>Question:</a></span></li><li><span><a href=\"#It's-time-to-start-coding:-importing-libraries\" data-toc-modified-id=\"It's-time-to-start-coding:-importing-libraries-4.0.2\"><span class=\"toc-item-num\">4.0.2&nbsp;&nbsp;</span>It's time to start coding: importing libraries</a></span></li><li><span><a href=\"#Creating-a-socrata-client\" data-toc-modified-id=\"Creating-a-socrata-client-4.0.3\"><span class=\"toc-item-num\">4.0.3&nbsp;&nbsp;</span>Creating a socrata client</a></span></li><li><span><a href=\"#Import-data-based-on-a-query-string\" data-toc-modified-id=\"Import-data-based-on-a-query-string-4.0.4\"><span class=\"toc-item-num\">4.0.4&nbsp;&nbsp;</span>Import data based on a query string</a></span></li><li><span><a href=\"#Data-Exploration-and-Analysis\" data-toc-modified-id=\"Data-Exploration-and-Analysis-4.0.5\"><span class=\"toc-item-num\">4.0.5&nbsp;&nbsp;</span>Data Exploration and Analysis</a></span></li></ul></li><li><span><a href=\"#Introducting-plotly\" data-toc-modified-id=\"Introducting-plotly-4.1\"><span class=\"toc-item-num\">4.1&nbsp;&nbsp;</span>Introducting plotly</a></span><ul class=\"toc-item\"><li><span><a href=\"#Label-axis\" data-toc-modified-id=\"Label-axis-4.1.1\"><span class=\"toc-item-num\">4.1.1&nbsp;&nbsp;</span>Label axis</a></span></li><li><span><a href=\"#Stacked-bar-charts\" data-toc-modified-id=\"Stacked-bar-charts-4.1.2\"><span class=\"toc-item-num\">4.1.2&nbsp;&nbsp;</span>Stacked bar charts</a></span></li></ul></li><li><span><a href=\"#Data-cleanup:-subsetting-your-data\" data-toc-modified-id=\"Data-cleanup:-subsetting-your-data-4.2\"><span class=\"toc-item-num\">4.2&nbsp;&nbsp;</span>Data cleanup: subsetting your data</a></span></li><li><span><a href=\"#Plotly-maps\" data-toc-modified-id=\"Plotly-maps-4.3\"><span class=\"toc-item-num\">4.3&nbsp;&nbsp;</span>Plotly maps</a></span></li><li><span><a href=\"#Using-a-loop\" data-toc-modified-id=\"Using-a-loop-4.4\"><span class=\"toc-item-num\">4.4&nbsp;&nbsp;</span>Using a loop</a></span></li></ul></li><li><span><a href=\"#Summarize-by-neighborhoods\" data-toc-modified-id=\"Summarize-by-neighborhoods-5\"><span class=\"toc-item-num\">5&nbsp;&nbsp;</span>Summarize by neighborhoods</a></span></li></ul></div>"
   ]
  },
  {
   "cell_type": "markdown",
   "metadata": {
    "slideshow": {
     "slide_type": "slide"
    }
   },
   "source": [
    "<div class=\"alert alert-danger\">\n",
    "\n",
    "<h1>Take notice!</h1>\n",
    "<ul>\n",
    "    <li>This class will be recorded</li>\n",
    "</ul>\n",
    "    \n",
    "</div>"
   ]
  },
  {
   "cell_type": "markdown",
   "metadata": {
    "slideshow": {
     "slide_type": "slide"
    }
   },
   "source": [
    "# An Open Data case study:  Hot-spots for Arrests in LA over time\n"
   ]
  },
  {
   "cell_type": "markdown",
   "metadata": {
    "slideshow": {
     "slide_type": "slide"
    }
   },
   "source": [
    "## What is an API?\n",
    "\n",
    "Some examples:\n",
    "\n",
    "Mapping API's\n",
    "\n",
    "- [Google Maps API](https://developers.google.com/maps/documentation/javascript/overview#maps_map_simple-javascript)\n",
    "- [Leaflet](https://leafletjs.com/)\n",
    "- [Mapbox](https://docs.mapbox.com/mapbox-gl-js/example/)\n",
    "\n",
    "Data API's\n",
    "- [Twitter API](https://developer.twitter.com/en)\n",
    "- [Metro API](https://developer.metro.net/api/)\n",
    "- [Census API](https://www.census.gov/data/developers/guidance/api-user-guide.Example_API_Queries.html)\n"
   ]
  },
  {
   "attachments": {},
   "cell_type": "markdown",
   "metadata": {
    "slideshow": {
     "slide_type": "slide"
    }
   },
   "source": [
    "# Part 1: Mini project and code review: Mapping gun violence\n",
    "\n",
    "As humans, we are troubled by recent events related to police brutality and gun violence. As planners, we are equipped with tools to do something about it. A quick scan reveals that open data exists on these issues, and one such source can be found with the Washington Post.\n",
    "\n",
    "- https://github.com/washingtonpost/data-police-shootings\n",
    "\n",
    "When you find a csv file posted in the GitHub account that is trustworthy, you can directly access it and pull the data into a Jupyter notebook (you may use this method to access your own csv data for example). However, you must first click on the \"View raw\" link and use **that** URL.\n",
    "\n",
    "<img src=\"images/git%20view%20raw.png\" width=600>\n",
    "\n"
   ]
  },
  {
   "attachments": {},
   "cell_type": "markdown",
   "metadata": {},
   "source": [
    "Next, copy the URL that produces the raw view of the data.\n",
    "\n",
    "<img src=\"images/git raw url.png\" width=\"600\">"
   ]
  },
  {
   "cell_type": "markdown",
   "metadata": {},
   "source": [
    "Now we can investigate and see if this data is usable within our Jupyter interface. Let's begin by importing some libraries."
   ]
  },
  {
   "cell_type": "code",
   "execution_count": 11,
   "metadata": {
    "slideshow": {
     "slide_type": "slide"
    }
   },
   "outputs": [],
   "source": [
    "# libraries\n",
    "import pandas as pd\n",
    "import geopandas as gpd\n",
    "\n",
    "# to give more power to your figures (plots)\n",
    "import matplotlib.pyplot as plt"
   ]
  },
  {
   "attachments": {},
   "cell_type": "markdown",
   "metadata": {},
   "source": [
    "Hey? What is `contextily`? Yes, it's a new library we are using that allows us to choose a basemap to put our data on top of. We'll learn more about this as we move along.\n",
    "\n",
    "- https://github.com/darribas/contextily"
   ]
  },
  {
   "cell_type": "code",
   "execution_count": 5,
   "metadata": {
    "slideshow": {
     "slide_type": "slide"
    }
   },
   "outputs": [],
   "source": [
    "# import the data into a new variable\n",
    "df = pd.read_csv(\"https://raw.githubusercontent.com/washingtonpost/data-police-shootings/master/v2/fatal-police-shootings-data.csv\")"
   ]
  },
  {
   "cell_type": "code",
   "execution_count": 6,
   "metadata": {},
   "outputs": [
    {
     "name": "stdout",
     "output_type": "stream",
     "text": [
      "<class 'pandas.core.frame.DataFrame'>\n",
      "RangeIndex: 8166 entries, 0 to 8165\n",
      "Data columns (total 19 columns):\n",
      " #   Column                      Non-Null Count  Dtype  \n",
      "---  ------                      --------------  -----  \n",
      " 0   id                          8166 non-null   int64  \n",
      " 1   date                        8166 non-null   object \n",
      " 2   threat_type                 8163 non-null   object \n",
      " 3   flee_status                 7146 non-null   object \n",
      " 4   armed_with                  7956 non-null   object \n",
      " 5   city                        8157 non-null   object \n",
      " 6   county                      3310 non-null   object \n",
      " 7   state                       8166 non-null   object \n",
      " 8   latitude                    7300 non-null   float64\n",
      " 9   longitude                   7300 non-null   float64\n",
      " 10  location_precision          7300 non-null   object \n",
      " 11  name                        7679 non-null   object \n",
      " 12  age                         7637 non-null   float64\n",
      " 13  gender                      8128 non-null   object \n",
      " 14  race                        7084 non-null   object \n",
      " 15  race_source                 7106 non-null   object \n",
      " 16  was_mental_illness_related  8166 non-null   bool   \n",
      " 17  body_camera                 8166 non-null   bool   \n",
      " 18  agency_ids                  8166 non-null   object \n",
      "dtypes: bool(2), float64(3), int64(1), object(13)\n",
      "memory usage: 1.1+ MB\n"
     ]
    }
   ],
   "source": [
    "# check the data, specifically for the latitude and longitude columns\n",
    "df.info()"
   ]
  },
  {
   "cell_type": "markdown",
   "metadata": {
    "slideshow": {
     "slide_type": "slide"
    }
   },
   "source": [
    "### From dataframe (df) to geodataframe (gdf)\n",
    "Whenever you bring data into a jupyter notebook that is in a `json` or `csv` format, *if* the data contains separate columns for latitude and longitude, you can convert the data into a geodataframe for mapping purposes.\n",
    "\n",
    "Things to note: If the data has latitude and longitude coordinates, it is a **[geographic coordinate system (GCS)](https://en.wikipedia.org/wiki/World_Geodetic_System)** with a crs code `epsg:4326`."
   ]
  },
  {
   "cell_type": "code",
   "execution_count": 8,
   "metadata": {
    "slideshow": {
     "slide_type": "fragment"
    }
   },
   "outputs": [],
   "source": [
    "# convert df to gdf\n",
    "# since data is in lat/lon's assign the crs to WGS84 (epsg:4326)\n",
    "gdf = gpd.GeoDataFrame(df, \n",
    "                       crs='epsg:4326',\n",
    "                       geometry=gpd.points_from_xy(df.longitude, df.latitude))"
   ]
  },
  {
   "cell_type": "markdown",
   "metadata": {
    "slideshow": {
     "slide_type": "slide"
    }
   },
   "source": [
    "### What is the projection?"
   ]
  },
  {
   "cell_type": "code",
   "execution_count": 9,
   "metadata": {
    "slideshow": {
     "slide_type": "fragment"
    }
   },
   "outputs": [
    {
     "data": {
      "text/plain": [
       "<Geographic 2D CRS: EPSG:4326>\n",
       "Name: WGS 84\n",
       "Axis Info [ellipsoidal]:\n",
       "- Lat[north]: Geodetic latitude (degree)\n",
       "- Lon[east]: Geodetic longitude (degree)\n",
       "Area of Use:\n",
       "- name: World.\n",
       "- bounds: (-180.0, -90.0, 180.0, 90.0)\n",
       "Datum: World Geodetic System 1984 ensemble\n",
       "- Ellipsoid: WGS 84\n",
       "- Prime Meridian: Greenwich"
      ]
     },
     "execution_count": 9,
     "metadata": {},
     "output_type": "execute_result"
    }
   ],
   "source": [
    "# output the data's projection\n",
    "gdf.crs"
   ]
  },
  {
   "cell_type": "markdown",
   "metadata": {},
   "source": [
    "The key output here is `WGS 84` indicating that the data is in geographic"
   ]
  },
  {
   "cell_type": "code",
   "execution_count": null,
   "metadata": {
    "slideshow": {
     "slide_type": "fragment"
    }
   },
   "outputs": [],
   "source": [
    "# reproject to web mercator\n",
    "gdf_web_mercator = gdf.to_crs(epsg=3857)"
   ]
  },
  {
   "cell_type": "code",
   "execution_count": 13,
   "metadata": {
    "slideshow": {
     "slide_type": "slide"
    }
   },
   "outputs": [
    {
     "data": {
      "text/plain": [
       "Text(0.5, 1.0, 'Fatal police shootings since 2015')"
      ]
     },
     "execution_count": 13,
     "metadata": {},
     "output_type": "execute_result"
    },
    {
     "data": {
      "image/png": "[encoded data removed]",
      "text/plain": [
       "<Figure size 1500x500 with 1 Axes>"
      ]
     },
     "metadata": {},
     "output_type": "display_data"
    }
   ],
   "source": [
    "# map it\n",
    "fig, ax = plt.subplots(figsize=(15,5))\n",
    "\n",
    "gdf.plot(ax=ax, \n",
    "        marker='X',\n",
    "        markersize=50,\n",
    "        color='red')\n",
    "\n",
    "ax.axis('off')\n",
    "\n",
    "ax.set_title('Fatal police shootings since 2015')\n",
    "\n",
    "# ctx.add_basemap(ax)"
   ]
  },
  {
   "cell_type": "markdown",
   "metadata": {
    "slideshow": {
     "slide_type": "-"
    }
   },
   "source": [
    "Note: You have many `marker` [options](https://matplotlib.org/stable/api/markers_api.html)"
   ]
  },
  {
   "cell_type": "markdown",
   "metadata": {
    "slideshow": {
     "slide_type": "slide"
    }
   },
   "source": [
    "Nice. What makes this process **powerful**? And what are potential **pitfalls**?"
   ]
  },
  {
   "cell_type": "code",
   "execution_count": 16,
   "metadata": {
    "slideshow": {
     "slide_type": "slide"
    }
   },
   "outputs": [
    {
     "data": {
      "text/plain": [
       "Text(0.5, 1.0, 'Metro Bus Route 20')"
      ]
     },
     "execution_count": 16,
     "metadata": {},
     "output_type": "execute_result"
    },
    {
     "data": {
      "image/png": "[encoded data removed]",
      "text/plain": [
       "<Figure size 2000x1200 with 2 Axes>"
      ]
     },
     "metadata": {},
     "output_type": "display_data"
    }
   ],
   "source": [
    "# two maps, different basemaps\n",
    "fig, ax = plt.subplots(2,1,figsize=(20,12))\n",
    "\n",
    "# Note that 2 plots were requested, so ax has two items: ax[0] and ax[1]\n",
    "\n",
    "# first map\n",
    "gdf.plot(ax=ax[0], \n",
    "                      marker='X',\n",
    "                      markersize=50,\n",
    "                      color='red')\n",
    "\n",
    "ax[0].axis('off')\n",
    "ax[0].set_title('Metro Bus Route 20')\n",
    "\n",
    "ctx.add_basemap(ax[0], source=ctx.providers.Stamen.Toner)\n",
    "\n",
    "# second map\n",
    "gdf.plot(ax=ax[1], \n",
    "                      marker='X',\n",
    "                      markersize=50,\n",
    "                      color='red')\n",
    "\n",
    "ax[1].axis('off')\n",
    "ax[1].set_title('Metro Bus Route 20')\n",
    "\n",
    "ctx.add_basemap(ax[1], source=ctx.providers.Stamen.Watercolor)"
   ]
  },
  {
   "cell_type": "markdown",
   "metadata": {
    "slideshow": {
     "slide_type": "slide"
    }
   },
   "source": [
    "### Multiple routes with a for loop\n",
    "\n",
    "One of the fundamental features of coding is the \"for\" loop. It allows you to generate multiple outputs with a few lines of code by \"looping\" through various elements.\n",
    "\n",
    "- pick routes to map https://api.metro.net/agencies/lametro/routes/\n",
    "- create a list of routes\n",
    "- loop through each route to generate maps"
   ]
  },
  {
   "cell_type": "code",
   "execution_count": null,
   "metadata": {},
   "outputs": [],
   "source": [
    "# create a list of routes\n",
    "routes = [10,40,102,460]"
   ]
  },
  {
   "cell_type": "code",
   "execution_count": null,
   "metadata": {
    "scrolled": false,
    "slideshow": {
     "slide_type": "slide"
    }
   },
   "outputs": [],
   "source": [
    "# loop through routes\n",
    "for route in routes:\n",
    "\n",
    "    # api url for metro stops\n",
    "    metro_url = 'https://api.metro.net/agencies/lametro/routes/' + str(route) + '/stops/'\n",
    "\n",
    "    # call the api and bring the data in\n",
    "    with urllib.request.urlopen(metro_url) as url:\n",
    "        data = json.loads(url.read().decode())\n",
    "\n",
    "    # convert the data to a dataframe\n",
    "    df = pd.json_normalize(data, 'items')\n",
    "    df\n",
    "    \n",
    "    # convert df to gdf\n",
    "    gdf = gpd.GeoDataFrame(df, \n",
    "                           crs='epsg:4326',\n",
    "                           geometry=gpd.points_from_xy(df.longitude, df.latitude))\n",
    "    \n",
    "    # reproject to web mercator\n",
    "    gdf_web_mercator = gdf.to_crs(epsg=3857)\n",
    "\n",
    "    # map it\n",
    "    fig, ax = plt.subplots(figsize=(15,15))\n",
    "\n",
    "    gdf_web_mercator.plot(ax=ax, \n",
    "                          marker='X',\n",
    "                          markersize=50,\n",
    "                          color='red')\n",
    "\n",
    "    ax.axis('off')\n",
    "\n",
    "    ax.set_title('Metro Bus Route '+str(route))\n",
    "\n",
    "    ctx.add_basemap(ax, source=ctx.providers.Stamen.Toner, zoom=13)"
   ]
  },
  {
   "cell_type": "markdown",
   "metadata": {
    "slideshow": {
     "slide_type": "slide"
    }
   },
   "source": [
    "# Part 2 - Socrata: An open data portal for governments\n",
    "\n",
    "Many governments use <a href=\"https://dev.socrata.com/\" target=\"_blank\">socrata</a> as their platform to serve data to the public. \n",
    "<img src=\"../images/socrata.png\" width=600>\n",
    "\n",
    "Example: [LA County Open Data Portal](https://data.lacounty.gov/)"
   ]
  },
  {
   "cell_type": "markdown",
   "metadata": {
    "slideshow": {
     "slide_type": "slide"
    }
   },
   "source": [
    "<table>\n",
    "    <tr>\n",
    "        <td><a href=\"https://opendata.cityofnewyork.us/\" target=\"_blank\"><img src=\"images/ny.png\" width=400></a></td>\n",
    "        <td><a href=\"https://datasf.org/opendata/\" target=\"_blank\"><img src=\"images/sf.png\" width=400></a></td>\n",
    "    </tr>\n",
    "    <tr>\n",
    "        <td><a href=\"https://data.cityofchicago.org/\" target=\"_blank\"><img src=\"images/ch.png\" width=400></a></td>\n",
    "        <td><a href=\"https://data.lacity.org/\" target=\"_blank\"><img src=\"images/la.png\" width=400></a></td>\n",
    "    </tr>\n",
    "</table>"
   ]
  },
  {
   "cell_type": "markdown",
   "metadata": {
    "slideshow": {
     "slide_type": "slide"
    }
   },
   "source": [
    "For this tutorial, we will look at LAPD's arrest data:\n",
    "\n",
    "https://data.lacity.org/A-Safe-City/Arrest-Data-from-2020-to-Present/amvf-fr72"
   ]
  },
  {
   "cell_type": "markdown",
   "metadata": {
    "slideshow": {
     "slide_type": "fragment"
    }
   },
   "source": [
    "The <a href=\"https://dev.socrata.com/docs/endpoints.html\" target=\"_blank\">Socrata API</a> allows direct and real-time access to open data."
   ]
  },
  {
   "cell_type": "markdown",
   "metadata": {
    "slideshow": {
     "slide_type": "fragment"
    }
   },
   "source": [
    "To access the data, we will use the `sodapy` library: https://github.com/xmunoz/sodapy"
   ]
  },
  {
   "cell_type": "markdown",
   "metadata": {
    "slideshow": {
     "slide_type": "slide"
    }
   },
   "source": [
    "Instructions on how to use `sodapy` to access data for this dataset:\n",
    "\n",
    "<a href=\"https://data.lacity.org/A-Safe-City/Arrest-Data-from-2020-to-Present/amvf-fr72\" target=\"_blank\"><img src=\"images/ladata.png\"></a>\n",
    "\n",
    "https://dev.socrata.com/foundry/data.lacity.org/amvf-fr72"
   ]
  },
  {
   "cell_type": "markdown",
   "metadata": {
    "slideshow": {
     "slide_type": "slide"
    }
   },
   "source": [
    "### Question:\n",
    "- What is the difference between exporting the data and using the API?"
   ]
  },
  {
   "cell_type": "markdown",
   "metadata": {
    "slideshow": {
     "slide_type": "slide"
    }
   },
   "source": [
    "### It's time to start coding: importing libraries\n",
    "\n",
    "Let's begin our python journey. First, we identify the libraries we will use, and import them into our project:\n",
    "- `pandas`\n",
    "- `plotly express` - [documentation](https://plotly.com/python/plotly-express/)\n",
    "- `sodapy` - [documentation](https://github.com/xmunoz/sodapy)\n",
    "\n",
    "*Notice that we will NOT be using geopandas! Don't worry, there will still be very rewarding maps in this session*"
   ]
  },
  {
   "cell_type": "code",
   "execution_count": null,
   "metadata": {
    "slideshow": {
     "slide_type": "slide"
    }
   },
   "outputs": [],
   "source": [
    "# for data wrangling\n",
    "import pandas as pd\n",
    "\n",
    "# for interactive plots\n",
    "import plotly.express as px\n",
    "\n",
    "# to import open data\n",
    "from sodapy import Socrata"
   ]
  },
  {
   "cell_type": "markdown",
   "metadata": {
    "slideshow": {
     "slide_type": "slide"
    }
   },
   "source": [
    "### Creating a socrata client\n",
    "Next, we acquire the data using the socrata API. Use the socrata documentation to grab the code syntax for our crime data.\n",
    "- https://dev.socrata.com/foundry/data.lacity.org/amvf-fr72"
   ]
  },
  {
   "cell_type": "code",
   "execution_count": null,
   "metadata": {
    "slideshow": {
     "slide_type": "slide"
    }
   },
   "outputs": [],
   "source": [
    "# connect to the data portal\n",
    "client = Socrata(\"data.lacity.org\", None)\n",
    "\n",
    "# First 2000 results, returned as JSON from API / converted to Python list of\n",
    "# dictionaries by sodapy.\n",
    "results = client.get(\"amvf-fr72\", limit=2000)\n",
    "\n",
    "# Convert to pandas DataFrame\n",
    "arrests = pd.DataFrame.from_records(results)\n",
    "\n",
    "# print it with .sample, which gives you random rows\n",
    "arrests.sample(2)"
   ]
  },
  {
   "cell_type": "markdown",
   "metadata": {
    "slideshow": {
     "slide_type": "slide"
    }
   },
   "source": [
    "### Import data based on a query string\n",
    "That's great! But what if you wanted something specific, like \"all arrests in July, 2021?\""
   ]
  },
  {
   "cell_type": "code",
   "execution_count": null,
   "metadata": {
    "slideshow": {
     "slide_type": "fragment"
    }
   },
   "outputs": [],
   "source": [
    "# add a \"where\" statement\n",
    "results = client.get(\"amvf-fr72\", \n",
    "                     limit = 10000, # putting an arbitrary high number (otherwise defaults to 1000)\n",
    "                     where = \"arst_date between '2021-12-01T00:00:00' and '2022-01-01T00:00:00'\"\n",
    "                    )"
   ]
  },
  {
   "cell_type": "code",
   "execution_count": null,
   "metadata": {
    "scrolled": true,
    "slideshow": {
     "slide_type": "fragment"
    }
   },
   "outputs": [],
   "source": [
    "# Convert to pandas DataFrame\n",
    "arrests = pd.DataFrame.from_records(results)"
   ]
  },
  {
   "cell_type": "markdown",
   "metadata": {
    "slideshow": {
     "slide_type": "slide"
    }
   },
   "source": [
    "### Data Exploration and Analysis"
   ]
  },
  {
   "cell_type": "code",
   "execution_count": null,
   "metadata": {
    "slideshow": {
     "slide_type": "fragment"
    }
   },
   "outputs": [],
   "source": [
    "# how many rows and columns?\n",
    "arrests.info()"
   ]
  },
  {
   "cell_type": "code",
   "execution_count": null,
   "metadata": {
    "scrolled": true,
    "slideshow": {
     "slide_type": "fragment"
    }
   },
   "outputs": [],
   "source": [
    "# what fields and datatypes?\n"
   ]
  },
  {
   "cell_type": "code",
   "execution_count": null,
   "metadata": {
    "slideshow": {
     "slide_type": "fragment"
    }
   },
   "outputs": [],
   "source": [
    "# what are the first 5 rows?\n"
   ]
  },
  {
   "cell_type": "markdown",
   "metadata": {
    "slideshow": {
     "slide_type": "slide"
    }
   },
   "source": [
    "## Introducting plotly\n",
    "\n",
    "Now, use plotly express to create a bar chart.\n",
    "\n",
    "- https://plotly.com/python/bar-charts/\n",
    "\n",
    "What are the differences between matplotlib and plotly?"
   ]
  },
  {
   "cell_type": "code",
   "execution_count": null,
   "metadata": {
    "slideshow": {
     "slide_type": "slide"
    }
   },
   "outputs": [],
   "source": [
    "# a simple bar chart, putting date on the x-axis\n",
    "fig = px.bar(arrests,\n",
    "       x='arst_date',\n",
    "       title='LAPD Arrests in December, 2021'\n",
    "      )\n",
    "\n",
    "# get rid of white lines inside the bars\n",
    "fig.update_traces(marker_line_width=0)\n",
    "\n",
    "# show the figure\n",
    "fig.show()"
   ]
  },
  {
   "cell_type": "markdown",
   "metadata": {
    "slideshow": {
     "slide_type": "slide"
    }
   },
   "source": [
    "### Label axis\n",
    "\n",
    "In plotly, you can relabel text by providing a dictionary as shown below:"
   ]
  },
  {
   "cell_type": "code",
   "execution_count": null,
   "metadata": {
    "slideshow": {
     "slide_type": "fragment"
    }
   },
   "outputs": [],
   "source": [
    "# add labels by providing a dict\n",
    "fig = px.bar(\n",
    "        arrests,\n",
    "        x='arst_date',\n",
    "        title='LAPD Arrests in July, 2021',\n",
    "        labels={\n",
    "            'arst_date':'Arrest date',\n",
    "            'count':'Number of arrests'\n",
    "        }\n",
    ")\n",
    "\n",
    "# get rid of white lines inside the bars\n",
    "fig.update_traces(marker_line_width=0)\n",
    "\n",
    "# show the figure\n",
    "fig.show()"
   ]
  },
  {
   "cell_type": "markdown",
   "metadata": {
    "slideshow": {
     "slide_type": "slide"
    }
   },
   "source": [
    "Let's dig in further... what if we want to see the distribution of charge types by day?"
   ]
  },
  {
   "cell_type": "code",
   "execution_count": null,
   "metadata": {
    "scrolled": true,
    "slideshow": {
     "slide_type": "fragment"
    }
   },
   "outputs": [],
   "source": [
    "# show me distinct value of charges\n",
    "arrests.grp_description.unique().tolist()"
   ]
  },
  {
   "cell_type": "code",
   "execution_count": null,
   "metadata": {
    "scrolled": true,
    "slideshow": {
     "slide_type": "slide"
    }
   },
   "outputs": [],
   "source": [
    "# show me distinct value of charges\n",
    "arrest_by_charge = arrests.value_counts('grp_description').reset_index(name='count')\n",
    "arrest_by_charge"
   ]
  },
  {
   "cell_type": "code",
   "execution_count": null,
   "metadata": {
    "slideshow": {
     "slide_type": "slide"
    }
   },
   "outputs": [],
   "source": [
    "# plot the top 20 charges\n",
    "fig = px.bar(arrest_by_charge.head(20),\n",
    "       x='grp_description',\n",
    "       y='count',\n",
    "       title='LAPD Arrests by Charge Type in December, 2021')\n",
    "\n",
    "fig.show()"
   ]
  },
  {
   "cell_type": "markdown",
   "metadata": {
    "slideshow": {
     "slide_type": "slide"
    }
   },
   "source": [
    "### Stacked bar charts\n",
    "\n",
    "What if you wanted to find out the distribution of crime types per day?"
   ]
  },
  {
   "cell_type": "code",
   "execution_count": null,
   "metadata": {},
   "outputs": [],
   "source": [
    "arrests_grouped = arrests.value_counts(['arst_date','grp_description']).reset_index(name='count')\n",
    "arrests_grouped"
   ]
  },
  {
   "cell_type": "code",
   "execution_count": null,
   "metadata": {
    "slideshow": {
     "slide_type": "slide"
    }
   },
   "outputs": [],
   "source": [
    "# make a bar chart\n",
    "fig = px.bar(arrests_grouped,\n",
    "       x='arst_date',\n",
    "       y='count'\n",
    ")\n",
    "\n",
    "fig.show()"
   ]
  },
  {
   "cell_type": "code",
   "execution_count": null,
   "metadata": {
    "slideshow": {
     "slide_type": "slide"
    }
   },
   "outputs": [],
   "source": [
    "# make a stacked bar chart\n",
    "fig = px.bar(arrests_grouped,\n",
    "       x='arst_date',\n",
    "       y='count',\n",
    "       color='grp_description' # this creates the \"stack\"\n",
    ")\n",
    "\n",
    "fig.show()"
   ]
  },
  {
   "cell_type": "markdown",
   "metadata": {
    "slideshow": {
     "slide_type": "slide"
    }
   },
   "source": [
    "Now it's your turn!\n",
    "\n",
    "* Add a title\n",
    "* Clean up the labels (arst_date, grp_description, etc)"
   ]
  },
  {
   "cell_type": "markdown",
   "metadata": {
    "slideshow": {
     "slide_type": "slide"
    }
   },
   "source": [
    "## Data cleanup: subsetting your data\n",
    "\n",
    "Let's go back to the original dataset."
   ]
  },
  {
   "cell_type": "code",
   "execution_count": null,
   "metadata": {
    "scrolled": true,
    "slideshow": {
     "slide_type": "fragment"
    }
   },
   "outputs": [],
   "source": [
    "arrests.info()"
   ]
  },
  {
   "cell_type": "markdown",
   "metadata": {
    "slideshow": {
     "slide_type": "slide"
    }
   },
   "source": [
    "That's a lot of fields. Let's create a subset of the data with just the following fields:\n",
    "\n",
    "- `arst_date`\n",
    "- `age`\n",
    "- `descent_cd`\n",
    "- `grp_description`\n",
    "- `lat`\n",
    "- `lon`\n",
    "\n",
    "In list format:\n",
    "```\n",
    "['arst_date','age','descent_cd','grp_description','lat','lon']\n",
    "```"
   ]
  },
  {
   "cell_type": "code",
   "execution_count": null,
   "metadata": {
    "slideshow": {
     "slide_type": "slide"
    }
   },
   "outputs": [],
   "source": [
    "# subset the data below (don't forget to add .copy at the end)\n",
    "arrests_mini = arrests[['arst_date','age','descent_cd','grp_description','lat','lon']].copy()"
   ]
  },
  {
   "cell_type": "code",
   "execution_count": null,
   "metadata": {
    "slideshow": {
     "slide_type": "slide"
    }
   },
   "outputs": [],
   "source": [
    "# get info for our subset data\n",
    "arrests_mini.info()"
   ]
  },
  {
   "cell_type": "markdown",
   "metadata": {
    "slideshow": {
     "slide_type": "slide"
    }
   },
   "source": [
    "Our `lat` and `lon` columns need to be of data type float. Let's convert them."
   ]
  },
  {
   "cell_type": "code",
   "execution_count": null,
   "metadata": {
    "slideshow": {
     "slide_type": "fragment"
    }
   },
   "outputs": [],
   "source": [
    "# convert lat/lon's to floats\n",
    "arrests_mini['lat'] = arrests_mini['lat'].astype(float)\n",
    "arrests_mini['lon'] = arrests_mini['lon'].astype(float)\n",
    "arrests_mini.info()"
   ]
  },
  {
   "cell_type": "markdown",
   "metadata": {
    "slideshow": {
     "slide_type": "slide"
    }
   },
   "source": [
    "What happens if we create a scatter plot, placing `lon` in the x-axis `lat` in the y-axis?"
   ]
  },
  {
   "cell_type": "code",
   "execution_count": null,
   "metadata": {
    "slideshow": {
     "slide_type": "fragment"
    }
   },
   "outputs": [],
   "source": [
    "# plot it\n",
    "fig = px.scatter(arrests_mini,\n",
    "           x='lon',\n",
    "           y='lat'\n",
    ")\n",
    "\n",
    "# options on the layout\n",
    "fig.update_layout(\n",
    "    width = 800,\n",
    "    height = 800,\n",
    "    title = \"lat/lon plot as-is\"\n",
    ")\n",
    "\n",
    "# make it a square grid\n",
    "fig.update_yaxes(\n",
    "    scaleanchor = \"x\",\n",
    "    scaleratio = 1,\n",
    ")\n",
    "\n",
    "fig.show()"
   ]
  },
  {
   "cell_type": "markdown",
   "metadata": {
    "slideshow": {
     "slide_type": "slide"
    }
   },
   "source": [
    "Uh oh. We have an outlier. What is it?"
   ]
  },
  {
   "cell_type": "code",
   "execution_count": null,
   "metadata": {
    "slideshow": {
     "slide_type": "fragment"
    }
   },
   "outputs": [],
   "source": [
    "# identify the outlier\n",
    "arrests_mini[arrests_mini.lon == 0]"
   ]
  },
  {
   "cell_type": "code",
   "execution_count": null,
   "metadata": {
    "slideshow": {
     "slide_type": "fragment"
    }
   },
   "outputs": [],
   "source": [
    "# in order to drop the outlier, we can \"keep\" the other rows using the \"not equal\" notation (!=)\n",
    "arrests_mini = arrests_mini[arrests_mini.lon != 0]"
   ]
  },
  {
   "cell_type": "code",
   "execution_count": null,
   "metadata": {
    "slideshow": {
     "slide_type": "slide"
    }
   },
   "outputs": [],
   "source": [
    "# check the plot again\n",
    "fig = px.scatter(arrests_mini,\n",
    "           x='lon',\n",
    "           y='lat'\n",
    ")\n",
    "\n",
    "# options on the layout\n",
    "fig.update_layout(\n",
    "    width = 800,\n",
    "    height = 800,\n",
    "    title = \"Fixed outlier\"\n",
    ")\n",
    "\n",
    "# make it a square grid\n",
    "fig.update_yaxes(\n",
    "    scaleanchor = \"x\",\n",
    "    scaleratio = 1,\n",
    ")\n",
    "\n",
    "fig.show()"
   ]
  },
  {
   "cell_type": "markdown",
   "metadata": {
    "slideshow": {
     "slide_type": "slide"
    }
   },
   "source": [
    "## Plotly maps\n",
    "Plotly has support for a mapbox slippy map. \n",
    "\n",
    "- https://plotly.com/python/scattermapbox/\n",
    "\n",
    "Have fun with this, and change the `mapbox_style` attribute to any of the following:\n",
    "\n",
    "* `open-street-map`\n",
    "* `white-bg`\n",
    "* `carto-positron`\n",
    "* `carto-darkmatter`\n",
    "* `stamen-terrain`\n",
    "* `stamen-toner`\n",
    "* `stamen-watercolor`\n"
   ]
  },
  {
   "cell_type": "code",
   "execution_count": null,
   "metadata": {
    "slideshow": {
     "slide_type": "slide"
    }
   },
   "outputs": [],
   "source": [
    "fig = px.scatter_mapbox(arrests_mini,\n",
    "                        lat='lat',\n",
    "                        lon='lon',\n",
    "                        mapbox_style=\"carto-positron\")\n",
    "\n",
    "# options on the layout\n",
    "fig.update_layout(\n",
    "    width = 800,\n",
    "    height = 800,\n",
    "    title = \"Interactive LAPD Arrest Map (December 2021)\",\n",
    "    title_x=0.5 # aligns title to center\n",
    ")\n",
    "\n",
    "fig.show()"
   ]
  },
  {
   "cell_type": "code",
   "execution_count": null,
   "metadata": {
    "slideshow": {
     "slide_type": "slide"
    }
   },
   "outputs": [],
   "source": [
    "# before you run this cell, what do you think it will produce?\n",
    "fig = px.scatter_mapbox(arrests_mini, \n",
    "                        lat=\"lat\", \n",
    "                        lon=\"lon\", \n",
    "                        color=\"descent_cd\",\n",
    "                        labels={'descent_cd':'Race'},\n",
    "                        mapbox_style=\"carto-positron\"\n",
    "                       )\n",
    "\n",
    "# options on the layout\n",
    "fig.update_layout(\n",
    "    width = 800,\n",
    "    height = 800,\n",
    "    title = \"Interactive LAPD Arrest Map (December 2021)\",\n",
    "    title_x=0.5 # aligns title to center\n",
    ")\n",
    "\n",
    "\n",
    "fig.show()"
   ]
  },
  {
   "cell_type": "markdown",
   "metadata": {
    "slideshow": {
     "slide_type": "slide"
    }
   },
   "source": [
    "Look at the function below, and see if you can figure out what it is meant to do:"
   ]
  },
  {
   "cell_type": "code",
   "execution_count": null,
   "metadata": {
    "slideshow": {
     "slide_type": "fragment"
    }
   },
   "outputs": [],
   "source": [
    "def race_map(race='H'):\n",
    "    \n",
    "    fig = px.scatter_mapbox(\n",
    "                            arrests_mini[arrests_mini.descent_cd==race], \n",
    "                            lat=\"lat\", \n",
    "                            lon=\"lon\", \n",
    "                            color=\"descent_cd\",\n",
    "                            labels={'descent_cd':'Race'},\n",
    "                            mapbox_style=\"carto-positron\"\n",
    "    )\n",
    "\n",
    "    # options on the layout\n",
    "    fig.update_layout(\n",
    "        width = 600,\n",
    "        height = 600,\n",
    "        title = \"Interactive LAPD Arrest Map (December 2021)<br>Showing where descent label is \"+race,\n",
    "        title_x=0.5 # aligns title to center\n",
    "    )\n",
    "\n",
    "    fig.show()"
   ]
  },
  {
   "cell_type": "code",
   "execution_count": null,
   "metadata": {
    "slideshow": {
     "slide_type": "slide"
    }
   },
   "outputs": [],
   "source": [
    "# call the function (try other values)\n",
    "race_map(race='B')"
   ]
  },
  {
   "cell_type": "markdown",
   "metadata": {
    "slideshow": {
     "slide_type": "slide"
    }
   },
   "source": [
    "## Using a loop"
   ]
  },
  {
   "cell_type": "code",
   "execution_count": null,
   "metadata": {
    "slideshow": {
     "slide_type": "fragment"
    }
   },
   "outputs": [],
   "source": [
    "# get a list of distinct race values\n",
    "race_list = arrests_mini.descent_cd.unique().tolist()\n",
    "race_list"
   ]
  },
  {
   "cell_type": "code",
   "execution_count": null,
   "metadata": {},
   "outputs": [],
   "source": [
    "# loop and map!\n",
    "for race in race_list:\n",
    "    race_map(race)"
   ]
  },
  {
   "cell_type": "markdown",
   "metadata": {
    "slideshow": {
     "slide_type": "slide"
    }
   },
   "source": [
    "# Summarize by neighborhoods\n",
    "\n",
    "Bring in neighborhoods directly from source:\n",
    "\n",
    "- https://data.lacounty.gov/GIS-Data/Community-Boundaries-CSA-/g4rb-en2z"
   ]
  },
  {
   "cell_type": "code",
   "execution_count": null,
   "metadata": {
    "slideshow": {
     "slide_type": "fragment"
    }
   },
   "outputs": [],
   "source": [
    "neighborhoods = gpd.read_file(\"https://data.lacounty.gov/api/geospatial/g4rb-en2z?method=export&format=GeoJSON\")"
   ]
  },
  {
   "cell_type": "code",
   "execution_count": null,
   "metadata": {
    "slideshow": {
     "slide_type": "fragment"
    }
   },
   "outputs": [],
   "source": [
    "neighborhoods.plot(figsize=(12,12))"
   ]
  },
  {
   "cell_type": "code",
   "execution_count": null,
   "metadata": {
    "slideshow": {
     "slide_type": "slide"
    }
   },
   "outputs": [],
   "source": [
    "# convert arrests_mini to geodataframe\n",
    "gdf = gpd.GeoDataFrame(\n",
    "    arrests_mini, geometry=gpd.points_from_xy(arrests_mini.lon, arrests_mini.lat),crs=4326)\n",
    "\n",
    "# check that it can be mapped\n",
    "gdf.plot()"
   ]
  },
  {
   "cell_type": "code",
   "execution_count": null,
   "metadata": {
    "slideshow": {
     "slide_type": "slide"
    }
   },
   "outputs": [],
   "source": [
    "# conduct a spatial join (i.e. assign each arrest to the neighborhood it is in)\n",
    "arrest_by_neighborhood = gpd.sjoin(neighborhoods, gdf) #Spatial join Points to polygons\n",
    "arrest_by_neighborhood"
   ]
  },
  {
   "cell_type": "code",
   "execution_count": null,
   "metadata": {
    "slideshow": {
     "slide_type": "slide"
    }
   },
   "outputs": [],
   "source": [
    "# count the number of records per community\n",
    "arrest_counts = arrest_by_neighborhood.value_counts('community').reset_index(name='arrest_count')\n",
    "arrest_counts"
   ]
  },
  {
   "cell_type": "code",
   "execution_count": null,
   "metadata": {
    "slideshow": {
     "slide_type": "slide"
    }
   },
   "outputs": [],
   "source": [
    "# add the count to the neighborhoods\n",
    "neighborhoods = neighborhoods.merge(arrest_counts, how='left', on='community')"
   ]
  },
  {
   "cell_type": "code",
   "execution_count": null,
   "metadata": {},
   "outputs": [],
   "source": [
    "neighborhoods.sample(10)"
   ]
  },
  {
   "cell_type": "code",
   "execution_count": null,
   "metadata": {
    "slideshow": {
     "slide_type": "slide"
    }
   },
   "outputs": [],
   "source": [
    "# choropleth map of arrests by neighborhoods\n",
    "fig,ax = plt.subplots(figsize=(12,12))\n",
    "\n",
    "neighborhoods.plot(ax=ax,column='arrest_count',legend=True,cmap='Reds')\n"
   ]
  },
  {
   "cell_type": "markdown",
   "metadata": {
    "slideshow": {
     "slide_type": "slide"
    }
   },
   "source": [
    "<div class=\"alert alert-info\">\n",
    "Now it's your turn!\n",
    "\n",
    "* Make the final map output \"prettier\"\n",
    "* Find a socrata based open dataset\n",
    "* Use the sodapy library and import it\n",
    "* Conduct data exploration and analysis\n",
    "* Create two or more plots using the plotly express library\n",
    "* Create map visualization using plotly and/or the KeplerGL libraries\n",
    "</div>\n",
    "\n",
    "Post your results in our class gallery <a href=\"https://docs.google.com/document/d/1u1b4r6j9Av-u3LZnzE5CL_fblss7EWnEXoSBKQ_Ao9Y/edit#\" target=\"_blank\">Google Document</a>."
   ]
  },
  {
   "cell_type": "code",
   "execution_count": null,
   "metadata": {},
   "outputs": [],
   "source": []
  }
 ],
 "metadata": {
  "celltoolbar": "Slideshow",
  "kernelspec": {
   "display_name": "xymax",
   "language": "python",
   "name": "python3"
  },
  "language_info": {
   "codemirror_mode": {
    "name": "ipython",
    "version": 3
   },
   "file_extension": ".py",
   "mimetype": "text/x-python",
   "name": "python",
   "nbconvert_exporter": "python",
   "pygments_lexer": "ipython3",
   "version": "3.8.15"
  },
  "toc": {
   "base_numbering": 1,
   "nav_menu": {},
   "number_sections": true,
   "sideBar": true,
   "skip_h1_title": false,
   "title_cell": "Table of Contents",
   "title_sidebar": "Contents",
   "toc_cell": true,
   "toc_position": {
    "height": "calc(100% - 180px)",
    "left": "10px",
    "top": "150px",
    "width": "423.75px"
   },
   "toc_section_display": true,
   "toc_window_display": false
  },
  "vscode": {
   "interpreter": {
    "hash": "6f3a6b90b75928055da0f19108388f80ab08f35cf0c332cf7927be5faa57e6ed"
   }
  }
 },
 "nbformat": 4,
 "nbformat_minor": 4
}
